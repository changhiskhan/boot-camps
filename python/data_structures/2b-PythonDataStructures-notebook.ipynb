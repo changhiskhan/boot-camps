{
 "metadata": {
  "name": "2b-PythonDataStructures-notebook"
 },
 "nbformat": 2,
 "nbformat_minor": 0,
 "worksheets": [
  {
   "cells": [
    {
     "cell_type": "markdown",
     "metadata": {},
     "source": [
      "# Compound Data Types: Lists, Dictionaries, Sets, Tuples, and Reading Files\n",
      "\n",
      "[Back To Python\n",
      "Variables](http://github.com/thehackerwithin/boot-camps/tree/2013-01-chicago/2a-PythonVariables)\n",
      "- [Forward to Python Flow\n",
      "Control](http://github.com/thehackerwithin/boot-camps/tree/2013-01-chicago/2c-PythonFlowControl/)\n",
      "\n",
      "* * * * *"
     ]
    },
    {
     "cell_type": "markdown",
     "metadata": {},
     "source": [
      "**Presented By : Will Trimble**\n",
      "\n",
      "**Based on lecture materials by Milad Fatenejad and Joshua R. Smith**\n",
      "\n",
      "Python would be a farily useless language if it weren't for the compound data types. The main two are **lists** and **dictionaries**, but I'll mention **sets** and **tuples** as well. I'll also go over reading text data from files. "
     ]
    },
    {
     "cell_type": "markdown",
     "metadata": {},
     "source": [
      "## Lists\n",
      "\n",
      "A list is an ordered, indexable collection of data. Lets say you have collected some current and voltage data that looks like this:\n",
      "\n",
      "```\n",
      "voltage:\n",
      "-2.0\n",
      "-1.0\n",
      "0.0\n",
      "1.0\n",
      "2.0\n",
      "\n",
      "current:\n",
      "-1.0\n",
      "-0.5\n",
      "0.0\n",
      "0.5\n",
      "1.0\n",
      "```\n",
      "\n",
      "So you could put that data into lists like"
     ]
    },
    {
     "cell_type": "code",
     "collapsed": false,
     "input": [
      "voltageList = [-2.0, -1.0, 0.0, 1.0, 2.0]\n",
      "currentList = [-1.0, -0.5, 0.0, 0.5, 1.0]"
     ],
     "language": "python",
     "metadata": {},
     "outputs": []
    },
    {
     "cell_type": "markdown",
     "metadata": {},
     "source": [
      "obviously voltageList is of type list:"
     ]
    },
    {
     "cell_type": "code",
     "collapsed": false,
     "input": [
      "type(voltageList)"
     ],
     "language": "python",
     "metadata": {},
     "outputs": []
    },
    {
     "cell_type": "markdown",
     "metadata": {},
     "source": [
      "Python lists have the charming (annoying?) feature that they are indexed from zero. Therefore, to find the value of the first item in voltageList:"
     ]
    },
    {
     "cell_type": "code",
     "collapsed": false,
     "input": [
      "voltageList[0]"
     ],
     "language": "python",
     "metadata": {},
     "outputs": []
    },
    {
     "cell_type": "markdown",
     "metadata": {},
     "source": [
      "And to find the value of the third item"
     ]
    },
    {
     "cell_type": "code",
     "collapsed": false,
     "input": [
      "voltageList[2]"
     ],
     "language": "python",
     "metadata": {},
     "outputs": []
    },
    {
     "cell_type": "markdown",
     "metadata": {},
     "source": [
      "Lists can be indexed from the back using a negative index. The last item of currentList"
     ]
    },
    {
     "cell_type": "code",
     "collapsed": false,
     "input": [
      "currentList[-1]"
     ],
     "language": "python",
     "metadata": {},
     "outputs": []
    },
    {
     "cell_type": "markdown",
     "metadata": {},
     "source": [
      "and the next-to-last"
     ]
    },
    {
     "cell_type": "code",
     "collapsed": false,
     "input": [
      "currentList[-2]"
     ],
     "language": "python",
     "metadata": {},
     "outputs": []
    },
    {
     "cell_type": "markdown",
     "metadata": {},
     "source": [
      "You can \"slice\" items from within a list. Lets say we wanted the second through fourth items from voltageList"
     ]
    },
    {
     "cell_type": "code",
     "collapsed": false,
     "input": [
      "voltageList[1:4]"
     ],
     "language": "python",
     "metadata": {},
     "outputs": []
    },
    {
     "cell_type": "markdown",
     "metadata": {},
     "source": [
      "Or from the third item to the end"
     ]
    },
    {
     "cell_type": "code",
     "collapsed": false,
     "input": [
      "voltageList[2:]"
     ],
     "language": "python",
     "metadata": {},
     "outputs": []
    },
    {
     "cell_type": "markdown",
     "metadata": {},
     "source": [
      "and so on."
     ]
    },
    {
     "cell_type": "markdown",
     "metadata": {},
     "source": [
      "### Append and Extend\n",
      "\n",
      "Just like strings have methods, lists do too."
     ]
    },
    {
     "cell_type": "code",
     "collapsed": false,
     "input": [
      "dir(list)"
     ],
     "language": "python",
     "metadata": {},
     "outputs": []
    },
    {
     "cell_type": "markdown",
     "metadata": {},
     "source": [
      "One useful method is append. Lets say we want to stick the following data on the end of both our lists.\n",
      "\n",
      "```\n",
      "voltage:\n",
      "3.0\n",
      "4.0\n",
      "\n",
      "current:\n",
      "1.5\n",
      "2.0\n",
      "```\n",
      "\n",
      "If you want to append items to the end of a list, use the append method."
     ]
    },
    {
     "cell_type": "code",
     "collapsed": false,
     "input": [
      "voltageList.append(3.)"
     ],
     "language": "python",
     "metadata": {},
     "outputs": []
    },
    {
     "cell_type": "code",
     "collapsed": false,
     "input": [
      "voltageList.append(4.)"
     ],
     "language": "python",
     "metadata": {},
     "outputs": []
    },
    {
     "cell_type": "code",
     "collapsed": false,
     "input": [
      "voltageList"
     ],
     "language": "python",
     "metadata": {},
     "outputs": []
    },
    {
     "cell_type": "markdown",
     "metadata": {},
     "source": [
      "You can see how that approach might be tedious in certain cases. If you want to concatenate a list onto the end of another one, use extend."
     ]
    },
    {
     "cell_type": "code",
     "collapsed": false,
     "input": [
      "currentList.extend([1.5, 2.0])"
     ],
     "language": "python",
     "metadata": {},
     "outputs": []
    },
    {
     "cell_type": "code",
     "collapsed": false,
     "input": [
      "currentList"
     ],
     "language": "python",
     "metadata": {},
     "outputs": []
    },
    {
     "cell_type": "markdown",
     "metadata": {},
     "source": [
      "### Length of Lists\n",
      "\n",
      "Sometimes you want to know how many items are in a list. Use the len command."
     ]
    },
    {
     "cell_type": "code",
     "collapsed": false,
     "input": [
      "len(voltageList)"
     ],
     "language": "python",
     "metadata": {},
     "outputs": []
    },
    {
     "cell_type": "markdown",
     "metadata": {},
     "source": [
      "### Heterogeneous Data\n",
      "\n",
      "Lists can contain hetergeneous data."
     ]
    },
    {
     "cell_type": "code",
     "collapsed": false,
     "input": [
      "dataList = [\"experiment: current vs. voltage\", \\\n",
      "    \"run\", 47, \\\n",
      "    \"temperature\", 372.756, \\\n",
      "    \"current\", [-1.0, -0.5, 0.0, 0.5, 1.0], \\\n",
      "    \"voltage\", [-2.0, -1.0, 0.0, 1.0, 2.0]]"
     ],
     "language": "python",
     "metadata": {},
     "outputs": []
    },
    {
     "cell_type": "code",
     "collapsed": false,
     "input": [
      "print dataList"
     ],
     "language": "python",
     "metadata": {},
     "outputs": []
    },
    {
     "cell_type": "markdown",
     "metadata": {},
     "source": [
      " \n",
      "We've got strings, ints, floats, and even other lists in there. The slashes are there so we can continue on the next line. They aren't necessary but they can sometimes make things look better.\n",
      "\n",
      "## Assigning Variables to Other Variables\n",
      "\n",
      "Something that might cause you headaches in the future is how python deals with assignment of one variable to another. When you set a variable equal to another, both variables point to the same thing. Changing the first one ends up changing the second. Be careful about this fact."
     ]
    },
    {
     "cell_type": "code",
     "collapsed": false,
     "input": [
      "a = [1,2]"
     ],
     "language": "python",
     "metadata": {},
     "outputs": []
    },
    {
     "cell_type": "code",
     "collapsed": false,
     "input": [
      "b = a"
     ],
     "language": "python",
     "metadata": {},
     "outputs": []
    },
    {
     "cell_type": "code",
     "collapsed": false,
     "input": [
      "a.append(10)"
     ],
     "language": "python",
     "metadata": {},
     "outputs": []
    },
    {
     "cell_type": "code",
     "collapsed": false,
     "input": [
      "b"
     ],
     "language": "python",
     "metadata": {},
     "outputs": []
    },
    {
     "cell_type": "markdown",
     "metadata": {},
     "source": [
      "There's a ton more to know about lists, but lets press on. Check out Dive Into Python or the help documentation for more info.\n",
      "\n",
      "## Reading From Files\n",
      "\n",
      "At this point it is useful to take a detour regarding files. Lets say you have a file with some current and voltage data and some metadata.\n",
      "\n",
      "```\n",
      "data.dat:\n",
      "\n",
      "experiment: current vs. voltage\n",
      "run: 47\n",
      "temperature: 372.756\n",
      "current: [-1.0, -0.5, 0.0, 0.5, 1.0]\n",
      "voltage: [-2.0, -1.0, 0.0, 1.0, 2.0]\n",
      "```\n",
      "\n",
      "We can read this data into a list type variable pretty easily."
     ]
    },
    {
     "cell_type": "code",
     "collapsed": false,
     "input": [
      "f = open(\"data.dat\")"
     ],
     "language": "python",
     "metadata": {},
     "outputs": []
    },
    {
     "cell_type": "code",
     "collapsed": false,
     "input": [
      "ivdata = f.readlines()"
     ],
     "language": "python",
     "metadata": {},
     "outputs": []
    },
    {
     "cell_type": "code",
     "collapsed": false,
     "input": [
      "f.close()"
     ],
     "language": "python",
     "metadata": {},
     "outputs": []
    },
    {
     "cell_type": "code",
     "collapsed": false,
     "input": [
      "ivdata"
     ],
     "language": "python",
     "metadata": {},
     "outputs": []
    },
    {
     "cell_type": "markdown",
     "metadata": {},
     "source": [
      "Right now the data in ivdata isn't in a particularly useful format, but you can imagine that with some additional programming we could straighten it out. We will eventually do that.\n",
      "\n",
      "## Tuples\n",
      "\n",
      "Tuples are another of python's basic compound data types that are almost like lists. The difference is that a tuple is immutable; once you set the data in it, the tuple cannot be changed. You define a tuple as follows."
     ]
    },
    {
     "cell_type": "code",
     "collapsed": false,
     "input": [
      "tup = (\"red\", \"white\", \"blue\")\n",
      " "
     ],
     "language": "python",
     "metadata": {},
     "outputs": []
    },
    {
     "cell_type": "code",
     "collapsed": false,
     "input": [
      "type(tup)"
     ],
     "language": "python",
     "metadata": {},
     "outputs": []
    },
    {
     "cell_type": "markdown",
     "metadata": {},
     "source": [
      "You can slice and index the tuple exactly like you would a list. Tuples are used in the inner workings of python, and a tuple can be used as a key in a dictionary, whereas a list cannot as we will see in a moment.\n",
      "\n",
      "See if you can retrieve the third element of **tup**:"
     ]
    },
    {
     "cell_type": "code",
     "collapsed": false,
     "input": [
      " "
     ],
     "language": "python",
     "metadata": {},
     "outputs": []
    },
    {
     "cell_type": "markdown",
     "metadata": {},
     "source": [
      "## Sets\n",
      "\n",
      "Most introductary python courses do not go over sets this early (or at all), but I've found this data type to be useful. The python set type is similar to the idea of a mathematical set: it is an unordered collection of unique things. Consider:"
     ]
    },
    {
     "cell_type": "code",
     "collapsed": false,
     "input": [
      "fruit = set([\"apple\", \"banana\", \"pear\", \"banana\"]) "
     ],
     "language": "python",
     "metadata": {},
     "outputs": []
    },
    {
     "cell_type": "markdown",
     "metadata": {},
     "source": [
      "ou have to use a list to create a set.\n",
      "\n",
      "\n",
      "Since sets contain only unique items, there's only one banana in the set fruit.\n",
      "\n",
      "You can do things like intersections, unions, etc. on sets just like in math. Here's an example of an intersection of two sets (the common items in both sets)."
     ]
    },
    {
     "cell_type": "code",
     "collapsed": false,
     "input": [
      "firstBowl = set([\"apple\", \"banana\", \"pear\", \"peach\"])\n",
      " "
     ],
     "language": "python",
     "metadata": {},
     "outputs": []
    },
    {
     "cell_type": "code",
     "collapsed": false,
     "input": [
      "secondBowl = set([\"peach\", \"watermelon\", \"orange\", \"apple\"])\n",
      " "
     ],
     "language": "python",
     "metadata": {},
     "outputs": []
    },
    {
     "cell_type": "code",
     "collapsed": false,
     "input": [
      "set.intersection(firstBowl, secondBowl)"
     ],
     "language": "python",
     "metadata": {},
     "outputs": []
    },
    {
     "cell_type": "code",
     "collapsed": false,
     "input": [
      "set(['apple', 'peach'])"
     ],
     "language": "python",
     "metadata": {},
     "outputs": []
    },
    {
     "cell_type": "markdown",
     "metadata": {},
     "source": [
      "You can check out more info using the help docs. We won't be returning to sets, but its good for you to know they exist.\n",
      "\n",
      "## Dictionaries\n",
      "\n",
      "Recall our file data.dat which contained our current-voltage data and also some metadata. We were able to import the data as a list, but clearly the list type is not the optial choice for a data model. The dictionary is a much better choice. A python dictionary is a collection of key, value pairs. The key is a way to name the data, and the value is the data itself. Here's a way to create a dictionary that contains all the data in our data.dat file in a more sensible way than a list."
     ]
    },
    {
     "cell_type": "code",
     "collapsed": false,
     "input": [
      "dataDict = {\"experiment\": \"current vs. voltage\", \\\n",
      "                    \"run\": 47, \\\n",
      "                    \"temperature\": 372.756, \\\n",
      "                    \"current\": [-1.0, -0.5, 0.0, 0.5, 1.0], \\\n",
      "                    \"voltage\": [-2.0, -1.0, 0.0, 1.0, 2.0]}"
     ],
     "language": "python",
     "metadata": {},
     "outputs": []
    },
    {
     "cell_type": "code",
     "collapsed": false,
     "input": [
      "print dataDict"
     ],
     "language": "python",
     "metadata": {},
     "outputs": []
    },
    {
     "cell_type": "markdown",
     "metadata": {},
     "source": [
      "This model is clearly better because you no longer have to remember that the run number is in the second position of the list, you just refer directly to \"run\":"
     ]
    },
    {
     "cell_type": "code",
     "collapsed": false,
     "input": [
      "dataDict[\"run\"]"
     ],
     "language": "python",
     "metadata": {},
     "outputs": []
    },
    {
     "cell_type": "markdown",
     "metadata": {},
     "source": [
      "If you wanted the voltage data list:"
     ]
    },
    {
     "cell_type": "code",
     "collapsed": false,
     "input": [
      "dataDict[\"voltage\"]"
     ],
     "language": "python",
     "metadata": {},
     "outputs": []
    },
    {
     "cell_type": "markdown",
     "metadata": {},
     "source": [
      "Or perhaps you wanted the last element of the current data list"
     ]
    },
    {
     "cell_type": "code",
     "collapsed": false,
     "input": [
      "dataDict[\"current\"][-1]"
     ],
     "language": "python",
     "metadata": {},
     "outputs": []
    },
    {
     "cell_type": "markdown",
     "metadata": {},
     "source": [
      "Once a dictionary has been created, you can change the values of the data if you like."
     ]
    },
    {
     "cell_type": "code",
     "collapsed": false,
     "input": [
      "dataDict[\"temperature\"] = 3275.39"
     ],
     "language": "python",
     "metadata": {},
     "outputs": []
    },
    {
     "cell_type": "markdown",
     "metadata": {},
     "source": [
      "You can also add new keys to the dictionary.  Note that dictionaries are indexed with square braces, just like lists--they look the same, even though they're very different."
     ]
    },
    {
     "cell_type": "code",
     "collapsed": false,
     "input": [
      "dataDict[\"user\"] = \"Johann G. von Ulm\""
     ],
     "language": "python",
     "metadata": {},
     "outputs": []
    },
    {
     "cell_type": "markdown",
     "metadata": {},
     "source": [
      "Dictionaries, like strings, lists, and all the rest, have built-in methods. Lets say you wanted all the keys from a particular dictionary."
     ]
    },
    {
     "cell_type": "code",
     "collapsed": false,
     "input": [
      "dataDict.keys()"
     ],
     "language": "python",
     "metadata": {},
     "outputs": []
    },
    {
     "cell_type": "markdown",
     "metadata": {},
     "source": [
      "also, values"
     ]
    },
    {
     "cell_type": "code",
     "collapsed": false,
     "input": [
      "dataDict.values()"
     ],
     "language": "python",
     "metadata": {},
     "outputs": []
    }
   ],
   "metadata": {}
  }
 ]
}
